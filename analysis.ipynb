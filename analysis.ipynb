{
 "cells": [
  {
   "cell_type": "code",
   "execution_count": 1,
   "metadata": {},
   "outputs": [],
   "source": [
    "import numpy as np\n",
    "import h5py\n",
    "import glob\n",
    "import sys\n",
    "import os\n",
    "import time\n",
    "\n",
    "from tqdm import tqdm\n",
    "\n",
    "import matplotlib.pyplot as plt\n",
    "import pandas as pd\n",
    "import seaborn as sns\n",
    "import statistic\n",
    "import scipy.stats\n",
    "import scipy.optimize\n",
    "import tikzplotlib"
   ]
  },
  {
   "cell_type": "code",
   "execution_count": 2,
   "metadata": {},
   "outputs": [],
   "source": [
    "if not os.path.isfile(\"output/tilting/data_.pkl\"):\n",
    "    df = pd.read_pickle(\"output/tilting/data.pkl\")"
   ]
  },
  {
   "cell_type": "code",
   "execution_count": 3,
   "metadata": {
    "scrolled": true
   },
   "outputs": [
    {
     "name": "stderr",
     "output_type": "stream",
     "text": [
      " 75%|███████▌  | 134937/179840 [00:02<00:00, 52037.44it/s]/data/PLI-Group/felix/data/thesis/5_singleton/statistic.py:13: RuntimeWarning: invalid value encountered in less\n",
      "  phi[phi < 0] += np.pi\n",
      "/data/PLI-Group/felix/data/thesis/5_singleton/statistic.py:14: RuntimeWarning: invalid value encountered in greater\n",
      "  phi[phi > np.pi / 2] -= np.pi\n",
      " 75%|███████▌  | 134937/179840 [00:02<00:00, 45803.12it/s]\n"
     ]
    },
    {
     "ename": "ValueError",
     "evalue": "operands could not be broadcast together with shapes (2304,) (4096,) ",
     "output_type": "error",
     "traceback": [
      "\u001b[0;31m---------------------------------------------------------------------------\u001b[0m",
      "\u001b[0;31mValueError\u001b[0m                                Traceback (most recent call last)",
      "\u001b[0;32m<ipython-input-3-16d6cf2f80eb>\u001b[0m in \u001b[0;36m<module>\u001b[0;34m\u001b[0m\n\u001b[1;32m      6\u001b[0m             \u001b[0;32mcontinue\u001b[0m\u001b[0;34m\u001b[0m\u001b[0;34m\u001b[0m\u001b[0m\n\u001b[1;32m      7\u001b[0m \u001b[0;34m\u001b[0m\u001b[0m\n\u001b[0;32m----> 8\u001b[0;31m         \u001b[0mdirc\u001b[0m \u001b[0;34m=\u001b[0m \u001b[0mstatistic\u001b[0m\u001b[0;34m.\u001b[0m\u001b[0m_remap_direction_sym\u001b[0m\u001b[0;34m(\u001b[0m\u001b[0mnp\u001b[0m\u001b[0;34m.\u001b[0m\u001b[0marray\u001b[0m\u001b[0;34m(\u001b[0m\u001b[0mdf\u001b[0m\u001b[0;34m[\u001b[0m\u001b[0;34m'direction_ref'\u001b[0m\u001b[0;34m]\u001b[0m\u001b[0;34m.\u001b[0m\u001b[0miloc\u001b[0m\u001b[0;34m[\u001b[0m\u001b[0mi\u001b[0m\u001b[0;34m]\u001b[0m\u001b[0;34m)\u001b[0m \u001b[0;34m-\u001b[0m \u001b[0mnp\u001b[0m\u001b[0;34m.\u001b[0m\u001b[0marray\u001b[0m\u001b[0;34m(\u001b[0m\u001b[0mdf\u001b[0m\u001b[0;34m[\u001b[0m\u001b[0;34m'direction'\u001b[0m\u001b[0;34m]\u001b[0m\u001b[0;34m.\u001b[0m\u001b[0miloc\u001b[0m\u001b[0;34m[\u001b[0m\u001b[0mi\u001b[0m\u001b[0;34m]\u001b[0m\u001b[0;34m)\u001b[0m\u001b[0;34m)\u001b[0m\u001b[0;34m\u001b[0m\u001b[0;34m\u001b[0m\u001b[0m\n\u001b[0m\u001b[1;32m      9\u001b[0m \u001b[0;34m\u001b[0m\u001b[0m\n\u001b[1;32m     10\u001b[0m         df_analyse = df_analyse.append(\n",
      "\u001b[0;31mValueError\u001b[0m: operands could not be broadcast together with shapes (2304,) (4096,) "
     ]
    }
   ],
   "source": [
    "if not os.path.isfile(\"output/tilting/data_.pkl\"):    \n",
    "    df_analyse = pd.DataFrame()\n",
    "    for i in tqdm(range(df.shape[0])):\n",
    "\n",
    "        if df['psi'].iloc[i] != 0.8:\n",
    "            continue\n",
    "\n",
    "        dirc = statistic._remap_direction_sym(np.array(df['direction_ref'].iloc[i]) - np.array(df['direction'].iloc[i]))\n",
    "                        \n",
    "        df_analyse = df_analyse.append(\n",
    "            {\n",
    "                \"voxel_size\":\n",
    "                    df['voxel_size'].iloc[i],\n",
    "                \"resolution\":\n",
    "                    df['resolution'].iloc[i],\n",
    "                \"model\":\n",
    "                    df['model'].iloc[i],\n",
    "                \"omega\":\n",
    "                    df['omega'].iloc[i],\n",
    "                \"psi\":\n",
    "                    df['psi'].iloc[i],\n",
    "                'f0':\n",
    "                    df['f0'].iloc[i],\n",
    "                'f1':\n",
    "                    df['f1'].iloc[i],\n",
    "                'tilt':\n",
    "                    df['tilt'].iloc[i],\n",
    "                \"transmittance\":\n",
    "                    df['transmittance'].iloc[i],\n",
    "                \"direction\":\n",
    "                    df['direction'].iloc[i],\n",
    "                \"retardation\":\n",
    "                    df['retardation'].iloc[i],\n",
    "                \"diff_trans\": (np.array(df['transmittance_ref'].iloc[i]) -\n",
    "                            np.array(df['transmittance'].iloc[i])).tolist(),\n",
    "                \"diff_dir\": (np.rad2deg(dirc)).tolist(),\n",
    "                \"diff_ret\": (np.array(df['retardation_ref'].iloc[i]) -\n",
    "                            np.array(df['retardation'].iloc[i])).tolist(),\n",
    "            },\n",
    "            ignore_index=True)\n",
    "\n",
    "    df_analyse.to_pickle(\"output/tilting/data_.pkl\")"
   ]
  },
  {
   "cell_type": "code",
   "execution_count": null,
   "metadata": {},
   "outputs": [],
   "source": [
    "df_analyse = pd.read_pickle(\n",
    "    \"output/tilting/data_.pkl\")"
   ]
  },
  {
   "cell_type": "code",
   "execution_count": null,
   "metadata": {},
   "outputs": [],
   "source": [
    "for mod in ['retardation']:\n",
    "    # fig, axs = plt.subplots(1,1)\n",
    "    # sns.boxplot(\n",
    "    #     x='voxel_size',\n",
    "    #     y=mod,\n",
    "    #     hue='omega',\n",
    "    #     fliersize=0.25,\n",
    "    #     data=df_analyse[(df_analyse.model == 'r') &\n",
    "    #                     (df_analyse.resolution == 1.25)].explode(mod) #, ax=axs\n",
    "    # )\n",
    "    # fig, axs = plt.subplots(1,1)\n",
    "    # sns.boxplot(\n",
    "    #     x='voxel_size',\n",
    "    #     y=mod,\n",
    "    #     hue='omega',\n",
    "    #     fliersize=0.25,\n",
    "    #     data=df_analyse[(df_analyse.model == 'r') & (df_analyse.f0 == 0) & (df_analyse.f1 == 0) & \n",
    "    #                     (df_analyse.resolution == 1.25)].explode(mod) #, ax=axs\n",
    "    # )\n",
    "    fig, axs = plt.subplots(1,1)\n",
    "    # axs.plot(np.NaN, np.NaN, '-', color='none', label='$\\Omega$')\n",
    "    sns.boxplot(\n",
    "        x='voxel_size',\n",
    "        y=mod,\n",
    "        hue='omega',\n",
    "        fliersize=0.25,\n",
    "        data=df_analyse[(df_analyse.model == 'r') & (df_analyse.voxel_size <= 1.25) & (df_analyse.f0 == 0) & (df_analyse.f1 == 0) & (df_analyse.psi == 0.8) & (df_analyse.resolution == 1.25)].explode(mod), ax=axs\n",
    "    )\n",
    "    # axs.legend(title = None)\n",
    "    axs.legend(title = \"$\\Omega$\")\n",
    "    axs.set_xlabel('voxel_size')\n",
    "    axs.set_ylabel('$\\Delta \\\\varphi$')\n",
    "    # legend = ax.legend()\n",
    "    # print(dir(legend))\n",
    "    # print(legend.get_label)\n",
    "    # ax.legend(title='$\\Omega$')\n",
    "#     tikzplotlib.save(f\"voxel_size_vs_{mod}.tex\")\n"
   ]
  },
  {
   "cell_type": "code",
   "execution_count": null,
   "metadata": {},
   "outputs": [],
   "source": [
    "fig, axs = plt.subplots(1,1)\n",
    "sns.boxplot(\n",
    "    x='voxel_size',\n",
    "    y=mod,\n",
    "    hue='omega',\n",
    "    fliersize=0.25,\n",
    "    data=df_analyse[(df_analyse.model == 'r') & (df_analyse.f0 == 0) & (df_analyse.f1 == 0) & (df_analyse.psi == 0.5) & (df_analyse.resolution == 1.25)].explode(mod)\n",
    ")\n",
    "fig, axs = plt.subplots(1,1)\n",
    "sns.boxplot(\n",
    "    x='voxel_size',\n",
    "    y=mod,\n",
    "    hue='omega',\n",
    "    fliersize=0.25,\n",
    "    data=df_analyse[(df_analyse.model == 'r') & (df_analyse.f0 == 0) & (df_analyse.f1 == 0) & (df_analyse.psi == 0.5) & (df_analyse.resolution == 2.5)].explode(mod)\n",
    ")"
   ]
  }
 ],
 "metadata": {
  "kernelspec": {
   "display_name": "ime263-thesis-5",
   "language": "python",
   "name": "env-ime263"
  },
  "language_info": {
   "codemirror_mode": {
    "name": "ipython",
    "version": 3
   },
   "file_extension": ".py",
   "mimetype": "text/x-python",
   "name": "python",
   "nbconvert_exporter": "python",
   "pygments_lexer": "ipython3",
   "version": "3.6.9"
  }
 },
 "nbformat": 4,
 "nbformat_minor": 4
}
