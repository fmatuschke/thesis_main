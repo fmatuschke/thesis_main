{
 "cells": [
  {
   "cell_type": "code",
   "execution_count": null,
   "metadata": {},
   "outputs": [],
   "source": [
    "import numpy as np\n",
    "import h5py\n",
    "import glob\n",
    "import sys\n",
    "import os\n",
    "import time\n",
    "\n",
    "from tqdm import tqdm\n",
    "\n",
    "import matplotlib.pyplot as plt\n",
    "import pandas as pd\n",
    "import seaborn as sns\n",
    "import statistic\n",
    "import scipy.stats\n",
    "import scipy.optimize\n",
    "# import tikzplotlib"
   ]
  },
  {
   "cell_type": "code",
   "execution_count": null,
   "metadata": {},
   "outputs": [],
   "source": [
    "df = pd.read_pickle(\n",
    "    \"output/data.pkl\")"
   ]
  },
  {
   "cell_type": "code",
   "execution_count": null,
   "metadata": {},
   "outputs": [],
   "source": [
    "df_analyse = pd.DataFrame()\n",
    "for i in tqdm(range(df.shape[0])):\n",
    "    dirc = statistic._remap_direction_sym(\n",
    "        np.array(df['direction_ref'].iloc[i]) -\n",
    "        np.array(df['direction'].iloc[i]))\n",
    "    df_analyse = df_analyse.append(\n",
    "        {\n",
    "            \"voxel_size\":\n",
    "                df['voxel_size'].iloc[i],\n",
    "            \"resolution\":\n",
    "                df['resolution'].iloc[i],\n",
    "            \"model\":\n",
    "                df['model'].iloc[i],\n",
    "            \"omega\":\n",
    "                df['omega'].iloc[i],\n",
    "            'f0':\n",
    "                df['f0'].iloc[i],\n",
    "            'f1':\n",
    "                df['f1'].iloc[i],\n",
    "            \"transmittance\":\n",
    "                df['transmittance'].iloc[i],\n",
    "            \"direction\":\n",
    "                df['direction'].iloc[i],\n",
    "            \"retardation\":\n",
    "                df['retardation'].iloc[i],\n",
    "            \"diff_trans\": (np.array(df['transmittance_ref'].iloc[i]) -\n",
    "                           np.array(df['transmittance'].iloc[i])).tolist(),\n",
    "            \"diff_dir\": (np.rad2deg(dirc)).tolist(),\n",
    "            \"diff_ret\": (np.array(df['retardation_ref'].iloc[i]) -\n",
    "                         np.array(df['retardation'].iloc[i])).tolist(),\n",
    "        },\n",
    "        ignore_index=True)\n",
    "\n",
    "df_analyse.to_pickle(\"output/data_.pkl\")"
   ]
  },
  {
   "cell_type": "code",
   "execution_count": 21,
   "metadata": {},
   "outputs": [],
   "source": [
    "df_analyse = pd.read_pickle(\n",
    "    \"output/data_.pkl\")"
   ]
  },
  {
   "cell_type": "code",
   "execution_count": 23,
   "metadata": {},
   "outputs": [
    {
     "data": {
      "text/plain": [
       "(-10, 10)"
      ]
     },
     "execution_count": 23,
     "metadata": {},
     "output_type": "execute_result"
    },
    {
     "data": {
      "image/png": "[encoded data removed]",
      "text/plain": [
       "<Figure size 432x288 with 1 Axes>"
      ]
     },
     "metadata": {
      "needs_background": "light"
     },
     "output_type": "display_data"
    }
   ],
   "source": [
    "fig = sns.boxplot(\n",
    "    x='voxel_size',\n",
    "    y='diff_dir',\n",
    "    hue='omega',\n",
    "    data=df_analyse[(df_analyse.model == 'r') & (df_analyse.f0 == 0) & (df_analyse.f1 == 0) &\n",
    "                    (df_analyse.resolution == 1.25)].explode('diff_dir'),\n",
    ")\n",
    "plt.plot([-0.5,5.5],[0,0])\n",
    "# fig.axes.set_xlim(-1,1)\n",
    "fig.axes.set_ylim(-10,10)\n",
    "# tikzplotlib.save(\"voxel_size_vs_diff_dir.tex"
   ]
  },
  {
   "cell_type": "code",
   "execution_count": 20,
   "metadata": {},
   "outputs": [
    {
     "ename": "AttributeError",
     "evalue": "'DataFrame' object has no attribute 'psi'",
     "output_type": "error",
     "traceback": [
      "\u001b[0;31m---------------------------------------------------------------------------\u001b[0m",
      "\u001b[0;31mAttributeError\u001b[0m                            Traceback (most recent call last)",
      "\u001b[0;32m<ipython-input-20-39ffde3eba07>\u001b[0m in \u001b[0;36m<module>\u001b[0;34m\u001b[0m\n\u001b[1;32m      1\u001b[0m \u001b[0mname\u001b[0m \u001b[0;34m=\u001b[0m \u001b[0;34m'direction'\u001b[0m\u001b[0;34m\u001b[0m\u001b[0;34m\u001b[0m\u001b[0m\n\u001b[0;32m----> 2\u001b[0;31m df_analyse[(df_analyse.model == 'r') & (df_analyse.f0 == 0) & (df_analyse.f1 == 0) & (df_analyse.omega == 0) & (df_analyse.psi == 0.5) &\n\u001b[0m\u001b[1;32m      3\u001b[0m                     (df_analyse.resolution == 1.25)].explode(name)[[name, 'voxel_size']].sort_values(name).iloc[100:110]\n",
      "\u001b[0;32m/data/PLI-Group/felix/data/thesis/2_cube_factory/env-imedv18/lib/python3.6/site-packages/pandas/core/generic.py\u001b[0m in \u001b[0;36m__getattr__\u001b[0;34m(self, name)\u001b[0m\n\u001b[1;32m   5177\u001b[0m             \u001b[0;32mif\u001b[0m \u001b[0mself\u001b[0m\u001b[0;34m.\u001b[0m\u001b[0m_info_axis\u001b[0m\u001b[0;34m.\u001b[0m\u001b[0m_can_hold_identifiers_and_holds_name\u001b[0m\u001b[0;34m(\u001b[0m\u001b[0mname\u001b[0m\u001b[0;34m)\u001b[0m\u001b[0;34m:\u001b[0m\u001b[0;34m\u001b[0m\u001b[0;34m\u001b[0m\u001b[0m\n\u001b[1;32m   5178\u001b[0m                 \u001b[0;32mreturn\u001b[0m \u001b[0mself\u001b[0m\u001b[0;34m[\u001b[0m\u001b[0mname\u001b[0m\u001b[0;34m]\u001b[0m\u001b[0;34m\u001b[0m\u001b[0;34m\u001b[0m\u001b[0m\n\u001b[0;32m-> 5179\u001b[0;31m             \u001b[0;32mreturn\u001b[0m \u001b[0mobject\u001b[0m\u001b[0;34m.\u001b[0m\u001b[0m__getattribute__\u001b[0m\u001b[0;34m(\u001b[0m\u001b[0mself\u001b[0m\u001b[0;34m,\u001b[0m \u001b[0mname\u001b[0m\u001b[0;34m)\u001b[0m\u001b[0;34m\u001b[0m\u001b[0;34m\u001b[0m\u001b[0m\n\u001b[0m\u001b[1;32m   5180\u001b[0m \u001b[0;34m\u001b[0m\u001b[0m\n\u001b[1;32m   5181\u001b[0m     \u001b[0;32mdef\u001b[0m \u001b[0m__setattr__\u001b[0m\u001b[0;34m(\u001b[0m\u001b[0mself\u001b[0m\u001b[0;34m,\u001b[0m \u001b[0mname\u001b[0m\u001b[0;34m,\u001b[0m \u001b[0mvalue\u001b[0m\u001b[0;34m)\u001b[0m\u001b[0;34m:\u001b[0m\u001b[0;34m\u001b[0m\u001b[0;34m\u001b[0m\u001b[0m\n",
      "\u001b[0;31mAttributeError\u001b[0m: 'DataFrame' object has no attribute 'psi'"
     ]
    }
   ],
   "source": [
    "name = 'direction'\n",
    "df_analyse[(df_analyse.model == 'r') & (df_analyse.f0 == 0) & (df_analyse.f1 == 0) & (df_analyse.omega == 0) & (df_analyse.psi == 0.5) &\n",
    "                    (df_analyse.resolution == 1.25)].explode(name)[[name, 'voxel_size']].sort_values(name).iloc[100:110]"
   ]
  },
  {
   "cell_type": "code",
   "execution_count": null,
   "metadata": {},
   "outputs": [],
   "source": [
    "name = 'direction'\n",
    "df[(df.model == 'r') & (df.f0 == 0) & (df.f1 == 0) & (df.omega == 0) &\n",
    "                    (df.resolution == 1.25)].explode(name)[[name, 'voxel_size']].sort_values(name)\n",
    "sns.swarmplot(\n",
    "    x='voxel_size',\n",
    "    y=name,\n",
    "    hue='omega',\n",
    "    data=df[(df.model == 'r') & (df.resolution == 1.25)].explode(name))"
   ]
  },
  {
   "cell_type": "code",
   "execution_count": null,
   "metadata": {},
   "outputs": [],
   "source": [
    "name = 'diff_dir'\n",
    "df_analyse[(df_analyse.model == 'r') & (df_analyse.f0 == 0) & (df_analyse.f1 == 0) & (df_analyse.omega == 0) &\n",
    "                    (df_analyse.resolution == 1.25)].explode(name)[[name, 'voxel_size']].sort_values(name)\n",
    "sns.boxplot(\n",
    "    x='voxel_size',\n",
    "    y=name,\n",
    "    hue='omega',\n",
    "    data=df_analyse[(df_analyse.model == 'r') & (df_analyse.resolution == 1.25)].explode(name))"
   ]
  },
  {
   "cell_type": "code",
   "execution_count": null,
   "metadata": {},
   "outputs": [],
   "source": []
  },
  {
   "cell_type": "code",
   "execution_count": null,
   "metadata": {},
   "outputs": [],
   "source": []
  }
 ],
 "metadata": {
  "kernelspec": {
   "display_name": "Python 3.6.9 64-bit ('env-imedv18': venv)",
   "language": "python",
   "name": "python36964bitenvimedv18venvea0c0d0d6113472db9f4598ad5b380e5"
  },
  "language_info": {
   "codemirror_mode": {
    "name": "ipython",
    "version": 3
   },
   "file_extension": ".py",
   "mimetype": "text/x-python",
   "name": "python",
   "nbconvert_exporter": "python",
   "pygments_lexer": "ipython3",
   "version": "3.6.9"
  }
 },
 "nbformat": 4,
 "nbformat_minor": 4
}
