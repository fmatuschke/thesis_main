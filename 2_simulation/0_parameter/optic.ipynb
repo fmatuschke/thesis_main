{
 "cells": [
  {
   "cell_type": "code",
   "execution_count": null,
   "metadata": {},
   "outputs": [],
   "source": [
    "import numpy as np\n",
    "import matplotlib.pyplot as plt\n",
    "import h5py\n",
    "import seaborn as sns\n",
    "import pandas as pd"
   ]
  },
  {
   "cell_type": "code",
   "execution_count": null,
   "metadata": {},
   "outputs": [],
   "source": [
    "g = 3\n",
    "data = []\n",
    "for x in np.linspace(10, 2500, 1000):\n",
    "    # print(x)\n",
    "    y = np.random.negative_binomial(x / (g - 1), 1 / g, 1000)\n",
    "#     y = np.random.poisson(x, 10000)\n",
    "#     y = np.random.normal(x, np.sqrt(x*3), 1000)\n",
    "#     print(np.mean(y), np.var(y))\n",
    "#     print(np.mean(y), np.std(y))\n",
    "    data.append(y)\n",
    "\n",
    "data = np.array(data)"
   ]
  },
  {
   "cell_type": "code",
   "execution_count": null,
   "metadata": {},
   "outputs": [],
   "source": [
    "h5f = h5py.File(\"../../data/Testreihe_LAP/t000stack.h5\", 'r')\n",
    "data = h5f['data'][:, 600:1500, 900:1700]\n",
    "data = np.swapaxes(data, 0, -1).astype(np.float64)"
   ]
  },
  {
   "cell_type": "code",
   "execution_count": null,
   "metadata": {},
   "outputs": [],
   "source": [
    "h5f = h5py.File(\"../../data/PM/Test500.h5\", 'r')\n",
    "data = h5f['data'][...]\n",
    "data = np.swapaxes(data, 0, -1).astype(np.float64)"
   ]
  },
  {
   "cell_type": "code",
   "execution_count": null,
   "metadata": {},
   "outputs": [],
   "source": [
    "mean = np.mean(data, -1).ravel()\n",
    "var = np.var(data, -1).ravel()\n",
    "print(var.shape)\n",
    "print(data.shape, mean.shape)\n",
    "\n",
    "# mean = mean[var < 42000]\n",
    "# var = var[var < 42000]\n",
    "# var = var[mean < 8000]\n",
    "# mean = mean[mean < 8000]\n",
    "\n",
    "mean = mean[var < 250]\n",
    "var = var[var < 250]\n",
    "# var = var[mean < 8000]\n",
    "# mean = mean[mean < 8000]\n",
    "\n",
    "H, X, Y = np.histogram2d(mean, var, (100, 50))\n",
    "\n",
    "df = pd.DataFrame()\n",
    "for x0, x1 in zip(X[:-1], X[1:]):\n",
    "    v = var[np.logical_and(mean >= x0, mean < x1)]\n",
    "#     print(v)\n",
    "    x = (x0 + x0) / 2\n",
    "#     m = np.nanmean(v)\n",
    "#     s = np.nanstd(v)\n",
    "#     print(x, m, s, m / x)\n",
    "\n",
    "    df = df.append({'x': x, 'data': v}, ignore_index=True)\n",
    "#     chunks.append(((x0+x1)/2,v))\n",
    "df = df.explode('data')"
   ]
  },
  {
   "cell_type": "code",
   "execution_count": null,
   "metadata": {},
   "outputs": [],
   "source": [
    "_ = plt.hist2d(mean.ravel(), var.ravel(), (100, 50))"
   ]
  },
  {
   "cell_type": "code",
   "execution_count": null,
   "metadata": {},
   "outputs": [],
   "source": [
    "sns.boxplot(x=\"x\", y=\"data\",data=df)"
   ]
  },
  {
   "cell_type": "code",
   "execution_count": null,
   "metadata": {},
   "outputs": [],
   "source": [
    "for x in df.x.unique():\n",
    "    h, x = np.histogram(df[df.x==x].data.to_numpy(), bins=42)\n",
    "    x = x[:-1] + (x[0]+x[1])/2\n",
    "    \n",
    "    plt.plot(x,h)\n",
    "    #     plt.hist(df[df.x==x].data.to_numpy())"
   ]
  },
  {
   "cell_type": "code",
   "execution_count": null,
   "metadata": {},
   "outputs": [],
   "source": [
    "mu, sigma = 0, 0.1 # mean and standard deviation\n",
    "s = np.random.normal(mu, sigma, 1000)\n",
    "count, bins, ignored = plt.hist(s, 30, density=True)\n",
    "plt.plot(bins, 1/(sigma * np.sqrt(2 * np.pi)) *\n",
    "               np.exp( - (bins - mu)**2 / (2 * sigma**2) ),\n",
    "         linewidth=2, color='r')\n",
    "plt.show()"
   ]
  },
  {
   "cell_type": "code",
   "execution_count": null,
   "metadata": {},
   "outputs": [],
   "source": [
    "g = 1.1\n",
    "N = 10000\n",
    "data = []\n",
    "I = 1000\n",
    "\n",
    "y = np.random.negative_binomial(I / (g - 1), 1 / g, N)\n",
    "plt.hist(y, 30, density=True)\n",
    "\n",
    "y = np.random.normal(I, np.sqrt(g*I), N)\n",
    "plt.hist(y, 30, density=True)\n",
    "\n",
    "y = np.random.gamma(I/(g-1), 1/g*(1-1/g), N)\n",
    "plt.hist(y, 30, density=True)\n",
    "\n",
    "y = np.random.poisson(I,  N)\n",
    "plt.hist(y, 30, density=True)\n",
    "\n",
    "plt.show()\n",
    "\n",
    "# h, x = np.hist(y)\n",
    "# plt.plot(x[:-1], h)\n",
    "\n",
    "# for x in np.linspace(10, 2500, 1000):\n",
    "#     # print(x)\n",
    "#     y = np.random.negative_binomial(x / (g - 1), 1 / g, 1000)\n",
    "# #     y = np.random.poisson(x, 10000)\n",
    "# #     y = np.random.normal(x, np.sqrt(x*3), 1000)\n",
    "# #     print(np.mean(y), np.var(y))\n",
    "# #     print(np.mean(y), np.std(y))\n",
    "#     data.append(y)\n",
    "\n",
    "# data = np.array(data)"
   ]
  }
 ],
 "metadata": {
  "language_info": {
   "name": "python"
  }
 },
 "nbformat": 4,
 "nbformat_minor": 4
}
