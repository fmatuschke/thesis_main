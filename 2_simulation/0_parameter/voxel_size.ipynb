{
 "cells": [
  {
   "cell_type": "code",
   "execution_count": null,
   "metadata": {},
   "outputs": [],
   "source": [
    "# %matplotlib inline\n",
    "# from jupyterthemes import jtplot\n",
    "# jtplot.style(theme=\"onedork\", context=\"notebook\", ticks=True, grid=True)\n",
    "\n",
    "import numpy as np\n",
    "import itertools\n",
    "import h5py\n",
    "import os\n",
    "import sys\n",
    "import glob\n",
    "\n",
    "import matplotlib.pyplot as plt\n",
    "import scipy.stats\n",
    "import seaborn as sns\n",
    "import pandas as pd\n",
    "import tikzplotlib\n",
    "\n",
    "# from tqdm import tqdm\n",
    "from tqdm.notebook import tqdm_notebook as tqdm\n",
    "\n",
    "import helper.circular"
   ]
  },
  {
   "cell_type": "code",
   "execution_count": null,
   "metadata": {},
   "outputs": [],
   "source": [
    "df = pd.read_pickle(os.path.join(\"output/test_25/voxel_size_post_1.pkl\"))\n",
    "df = df[df.m == 0]\n",
    "# df = df[df.f1_rot == 0]\n",
    "df['epa_dir_diff'] = np.rad2deg(df['epa_dir_diff'])\n",
    "# df['epa_trans_diff_rel'] = df['epa_trans_diff']\n",
    "# df['epa_ret_diff_rel'] = df['epa_ret_diff']"
   ]
  },
  {
   "cell_type": "code",
   "execution_count": null,
   "metadata": {},
   "outputs": [],
   "source": [
    "\n",
    "parameters = list(df[[\"f0_inc\", \"omega\", \"psi\", \"model\"]].drop_duplicates().iterrows())\n",
    "\n",
    "for _, p in parameters:\n",
    "    f0_inc = p['f0_inc']\n",
    "    omega = p['omega']\n",
    "    psi = p['psi']\n",
    "    model = p['model']\n",
    "    sub = (df.f0_inc == f0_inc) & (df.omega == omega) & (df.psi == psi) & (df.model == model)\n",
    "    \n",
    "    string = [str(elm) for elm in p]\n",
    "    string = '-'.join(string)\n",
    "    \n",
    "    fig, axs = plt.subplots(5, 1, figsize=(15, 7))\n",
    "    fig.suptitle(string, fontsize=21)\n",
    "    \n",
    "    sns.boxplot(x=\"radius\", y=\"epa_trans_diff_rel\", hue='voxel_size', data=df[sub], ax=axs[0])\n",
    "    axs[0].legend([],[], frameon=False)\n",
    "    sns.boxplot(x=\"radius\", y=\"epa_dir_diff\", hue='voxel_size', data=df[sub], ax=axs[1])\n",
    "    axs[1].legend([],[], frameon=False)\n",
    "#     sns.stripplot(x=\"voxel_size\", y=\"epa_dir_diff\", hue='radius', data=df[sub], ax=axs[1], dodge=True)\n",
    "    ax = sns.boxplot(x=\"radius\", y=\"epa_ret_diff_rel\", hue='voxel_size', data=df[sub], ax=axs[2])\n",
    "    ax.set_ylim(0, 1)\n",
    "#     axs[2].legend([],[], frameon=False\n",
    "\n",
    "    ax = sns.boxplot(x=\"radius\", y=\"data_diff\", hue='voxel_size', data=df[sub], ax=axs[3])\n",
    "    ax = sns.boxplot(x=\"radius\", y=\"data_diff_sqr\", hue='voxel_size', data=df[sub], ax=axs[4])\n",
    "    \n",
    "    plt.legend(bbox_to_anchor=(1.05, 1), loc='upper left', borderaxespad=0.)\n",
    "#     plt.savefig(f'omega_{omega}_f0_inc_{f0_inc}_psi_{psi}_model_{model}.pdf')"
   ]
  }
 ],
 "metadata": {
  "kernelspec": {
   "display_name": "Python 3",
   "language": "python",
   "name": "python3"
  },
  "language_info": {
   "codemirror_mode": {
    "name": "ipython",
    "version": 3
   },
   "file_extension": ".py",
   "mimetype": "text/x-python",
   "name": "python",
   "nbconvert_exporter": "python",
   "pygments_lexer": "ipython3",
   "version": "3.6.9"
  }
 },
 "nbformat": 4,
 "nbformat_minor": 4
}
