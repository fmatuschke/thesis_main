{
 "cells": [
  {
   "cell_type": "code",
   "execution_count": null,
   "metadata": {},
   "outputs": [],
   "source": [
    "%matplotlib inline\n",
    "\n",
    "import numpy as np\n",
    "import h5py\n",
    "from tqdm.notebook import tqdm_notebook as tqdm\n",
    "import matplotlib.pyplot as plt\n",
    "import pandas as pd\n",
    "import seaborn as sns\n",
    "import scipy.stats\n",
    "\n",
    "import fastpli.simulation\n",
    "import fastpli.io\n"
   ]
  },
  {
   "cell_type": "code",
   "execution_count": null,
   "metadata": {},
   "outputs": [],
   "source": [
    "# df = pd.read_pickle(\"output/vs_0.01_6_25/voxel_size_post_0.pkl\")\n",
    "df = pd.read_pickle(\"output/vs_0.01_6_25/voxel_size_post_1.pkl\")"
   ]
  },
  {
   "cell_type": "code",
   "execution_count": null,
   "metadata": {},
   "outputs": [],
   "source": [
    "print(df.columns)"
   ]
  },
  {
   "cell_type": "code",
   "execution_count": null,
   "metadata": {
    "tags": [
     "outputPrepend"
    ]
   },
   "outputs": [],
   "source": [
    "# \"epa_trans\",\n",
    "# \"epa_dir\",\n",
    "# \"epa_ret\",\n",
    "\n",
    "sub = df[['voxel_size', 'radius', 'psi', 'omega', 'f0_inc', 'f1_rot', 'model', 'setup']]\n",
    "# print(sub)\n",
    "sub = sub.drop_duplicates()\n",
    "for voxel_size, radius, psi, omega, f0_inc, f1_rot, model, setup in sub.itertuples(index=False):\n",
    "    sub_ = (df.voxel_size == voxel_size) & (df.radius == radius) & (df.psi == psi) &(df.omega == omega) & (df.f0_inc == f0_inc) & (df.f1_rot == f1_rot) & (df.model == model) & (df.setup == setup)& (df.m > 0)\n",
    "    df_ = df[sub_]\n",
    "    df_ = df_.explode('epa_ret').explode('epa_ret')\n",
    "    species = list(df_.species.unique())\n",
    "    for i, s1 in enumerate(species):\n",
    "        for s2 in species[i+1:]:\n",
    "            s, p = scipy.stats.kruskal(df_[df_.species==s1].epa_ret.to_numpy(), df_[df_.species==s2].epa_ret.to_numpy())\n",
    "            if p < 0.01:\n",
    "                print(voxel_size, radius, psi, omega, f0_inc, f1_rot, model, setup, s1, s2, p)\n",
    "\n",
    "print()\n",
    "print()\n",
    "print()\n",
    "for voxel_size, radius, psi, omega, f0_inc, f1_rot, model, setup in sub.itertuples(index=False):\n",
    "    sub_ = (df.voxel_size == voxel_size) & (df.radius == radius) & (df.psi == psi) &(df.omega == omega) & (df.f0_inc == f0_inc) & (df.f1_rot == f1_rot) & (df.model == model) & (df.setup == setup)& (df.m > 0)\n",
    "    df_ = df[sub_]\n",
    "    df_ = df_.explode('epa_ret').explode('epa_ret')\n",
    "    species = list(df_.species.unique())\n",
    "    for i, s1 in enumerate(species):\n",
    "        for s2 in species[i+1:]:\n",
    "            s, p = scipy.stats.kruskal(df_[df_.species==s1].epa_ret.to_numpy(), df_[df_.species==s2].epa_ret.to_numpy())\n",
    "            if p > 0.05:\n",
    "                print(voxel_size, radius, psi, omega, f0_inc, f1_rot, model, setup, s1, s2, p)\n"
   ]
  },
  {
   "cell_type": "code",
   "execution_count": null,
   "metadata": {
    "tags": []
   },
   "outputs": [],
   "source": [
    "df_kruskal = pd.DataFrame()\n",
    "\n",
    "sub = df[['species', 'radius', 'psi', 'omega', 'f0_inc', 'f1_rot', 'model', 'setup']]\n",
    "sub = sub.drop_duplicates()\n",
    "\n",
    "voxel_sizes = list(df_.voxel_size.unique())\n",
    "vs1 = min(voxel_sizes)\n",
    "\n",
    "for species, radius, psi, omega, f0_inc, f1_rot, model, setup in tqdm(sub.itertuples(index=False), total=len(sub)):\n",
    "    sub_ = (df.species == species) & (df.radius == radius) & (df.psi == psi) &(df.omega == omega) & (df.f0_inc == f0_inc) & (df.f1_rot == f1_rot) & (df.model == model) & (df.setup == setup)& (df.m > 0)\n",
    "    df_ = df[sub_]\n",
    "    df_ = df_.explode('data_diff').explode('data_diff')\n",
    "    for vs2 in voxel_sizes[1:]:\n",
    "        s, p = scipy.stats.kruskal(df_[df_.voxel_size==vs1].data_diff.to_numpy(), df_[df_.voxel_size==vs2].data_diff.to_numpy())\n",
    "\n",
    "        df_kruskal = df_kruskal.append({\"species\":species,\n",
    "                                        \"radius\":radius,\n",
    "                                        \"psi\":psi,\n",
    "                                        \"omega\":omega,\n",
    "                                        \"f0_inc\":f0_inc,\n",
    "                                        \"f1_rot\":f1_rot,\n",
    "                                        \"model\":model,\n",
    "                                        \"setup\":setup,\n",
    "                                        \"voxel_size\": vs2,\n",
    "                                        \"p_value\": p }, ignore_index=True)"
   ]
  },
  {
   "cell_type": "code",
   "execution_count": null,
   "metadata": {},
   "outputs": [],
   "source": [
    "print(df_kruskal.voxel_size.unique())"
   ]
  },
  {
   "cell_type": "code",
   "execution_count": null,
   "metadata": {},
   "outputs": [],
   "source": [
    "sns.boxplot(x=\"radius\", y=\"p_value\",\n",
    "            hue=\"voxel_size\",\n",
    "            whis=[0, 100], width=.6,\n",
    "            data=df_kruskal)\n",
    "sns.stripplot(x=\"radius\", y=\"p_value\", data=df_kruskal,\n",
    "              size=4, color=\".3\", linewidth=0)            "
   ]
  }
 ],
 "metadata": {
  "language_info": {
   "name": "python",
   "version": "3.6.9-final"
  },
  "kernelspec": {
   "name": "python3",
   "display_name": "Python 3"
  }
 },
 "nbformat": 4,
 "nbformat_minor": 4
}