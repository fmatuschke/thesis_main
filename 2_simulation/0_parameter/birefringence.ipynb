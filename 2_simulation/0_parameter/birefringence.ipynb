{
 "cells": [
  {
   "cell_type": "code",
   "execution_count": null,
   "metadata": {},
   "outputs": [],
   "source": [
    "# %matplotlib inline\n",
    "# from jupyterthemes import jtplot\n",
    "# jtplot.style(theme=\"onedork\", context=\"notebook\", ticks=True, grid=True)\n",
    "\n",
    "import matplotlib.pyplot as plt\n",
    "import scipy.stats\n",
    "import numpy as np\n",
    "import pandas as pd\n",
    "import seaborn as sns\n",
    "import os\n",
    "\n",
    "from decimal import Decimal"
   ]
  },
  {
   "cell_type": "code",
   "execution_count": null,
   "metadata": {},
   "outputs": [],
   "source": [
    "df = pd.read_pickle(os.path.join(\"output/bf_0.125/bf.pkl\"))\n",
    "df = df.apply(pd.Series.explode).reset_index().apply(pd.Series.explode).reset_index()\n",
    "df['x'] = np.round(df.dn,4)\n",
    "# df['x'] = df.apply(lambda x: f\"{np.round(x['dn'],4)}\",axis=1)"
   ]
  },
  {
   "cell_type": "code",
   "execution_count": null,
   "metadata": {},
   "outputs": [],
   "source": [
    "df_ = df[df.dn%0.001 == 0]\n",
    "for setup in df_.setup.unique():\n",
    "    for dn in sorted(df_.dn.unique()):\n",
    "        for radius in sorted(df_.radius.unique()):\n",
    "\n",
    "            sub = (df_.radius==radius) & (df_.dn==dn) & (df_.setup == setup)\n",
    "            \n",
    "#             print(np.mean(df_[(df_.species == \"Roden\") & sub].transmittance),\n",
    "#                   np.mean(df_[(df_.species == \"Vervet\") & sub].transmittance),\n",
    "#                   np.mean(df_[(df_.species == \"Human\") & sub].transmittance))\n",
    "            res = scipy.stats.kruskal(df_[(df_.species == \"Roden\") &sub].retardation,\n",
    "                                          df_[(df_.species == \"Vervet\") &sub].retardation,\n",
    "                                          df_[(df_.species == \"Human\") &sub].retardation)\n",
    "            print(setup, radius, dn, res[0], res[1])\n",
    "        print()"
   ]
  },
  {
   "cell_type": "code",
   "execution_count": null,
   "metadata": {},
   "outputs": [],
   "source": [
    "for setup in df_.setup.unique():\n",
    "    f = plt.figure()\n",
    "    ax = sns.boxplot(x=\"x\", y=\"retardation\", data=df[(df.dn%0.0005 == 0) & (df.setup == setup)], hue = \"radius\", palette=sns.color_palette())\n",
    "    # ax.ticklabel_format(scilimits=(5,5))\n",
    "    ax.set_xticklabels(ax.get_xticklabels(),rotation=30)\n",
    "    ax.set(ylim=(0, 1.05))\n",
    "    f.set_size_inches(30, 20)\n",
    "    # plt.ticklabel_format(style='sci', axis='x', scilimits=(5,5), useMathText=True)\n",
    "    plt.savefig(f\"retardation_{setup}.pdf\", dpi=300)\n",
    "    for species in [\"Roden\", \"Vervet\", \"Human\"]:\n",
    "        f = plt.figure()\n",
    "        ax = sns.boxplot(x=\"x\", y=\"retardation\", data=df[(df.dn%0.0005 == 0) & (df.species == species) & (df.setup == setup)], hue = \"radius\", palette=sns.color_palette())\n",
    "        # ax.ticklabel_format(scilimits=(5,5))\n",
    "        ax.set_xticklabels(ax.get_xticklabels(),rotation=30)\n",
    "        ax.set(ylim=(0, 1.05))\n",
    "        f.set_size_inches(30, 20)\n",
    "        # plt.ticklabel_format(style='sci', axis='x', scilimits=(5,5), useMathText=True)\n",
    "        plt.savefig(f\"retardation_{setup}_{species}.pdf\", dpi=300)"
   ]
  }
 ],
 "metadata": {
  "language_info": {
   "name": "python"
  }
 },
 "nbformat": 4,
 "nbformat_minor": 4
}
