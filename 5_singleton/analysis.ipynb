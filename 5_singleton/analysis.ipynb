{
 "cells": [
  {
   "cell_type": "code",
   "execution_count": null,
   "metadata": {},
   "outputs": [],
   "source": [
    "import numpy as np\n",
    "import h5py\n",
    "import glob\n",
    "import sys\n",
    "import os\n",
    "import time\n",
    "\n",
    "from tqdm import tqdm\n",
    "\n",
    "import matplotlib.pyplot as plt\n",
    "import pandas as pd\n",
    "import seaborn as sns\n",
    "import statistic\n",
    "import scipy.stats\n",
    "import scipy.optimize\n",
    "import tikzplotlib"
   ]
  },
  {
   "cell_type": "code",
   "execution_count": null,
   "metadata": {},
   "outputs": [],
   "source": [
    "if not os.path.isfile(\"output/tilting/data_.pkl\"):\n",
    "    df = pd.read_pickle(\"output/tilting/data.pkl\")"
   ]
  },
  {
   "cell_type": "code",
   "execution_count": null,
   "metadata": {},
   "outputs": [],
   "source": [
    "if not os.path.isfile(\"output/tilting/data_.pkl\"):    \n",
    "    df_analyse = pd.DataFrame()\n",
    "    for i in tqdm(range(df.shape[0])):\n",
    "\n",
    "#         if df['psi'].iloc[i] != 0.8:\n",
    "#             continue\n",
    "\n",
    "        dirc = statistic._remap_direction_sym(np.array(df['direction_ref'].iloc[i]) - np.array(df['direction'].iloc[i]))\n",
    "                        \n",
    "        df_analyse = df_analyse.append(\n",
    "            {\n",
    "                \"voxel_size\":\n",
    "                    df['voxel_size'].iloc[i],\n",
    "                \"resolution\":\n",
    "                    df['resolution'].iloc[i],\n",
    "                \"model\":\n",
    "                    df['model'].iloc[i],\n",
    "                \"omega\":\n",
    "                    df['omega'].iloc[i],\n",
    "                \"psi\":\n",
    "                    df['psi'].iloc[i],\n",
    "                'f0':\n",
    "                    df['f0'].iloc[i],\n",
    "                'f1':\n",
    "                    df['f1'].iloc[i],\n",
    "                'tilt':\n",
    "                    float(df['tilt'].iloc[i]),\n",
    "                \"transmittance\":\n",
    "                    df['transmittance'].iloc[i],\n",
    "                \"direction\":\n",
    "                    df['direction'].iloc[i],\n",
    "                \"retardation\":\n",
    "                    df['retardation'].iloc[i],\n",
    "                \"diff_trans\": (np.array(df['transmittance_ref'].iloc[i]) -\n",
    "                            np.array(df['transmittance'].iloc[i])).tolist(),\n",
    "                \"diff_dir\": (np.rad2deg(dirc)).tolist(),\n",
    "                \"diff_ret\": (np.array(df['retardation_ref'].iloc[i]) -\n",
    "                            np.array(df['retardation'].iloc[i])).tolist(),\n",
    "            },\n",
    "            ignore_index=True)\n",
    "\n",
    "    df_analyse.to_pickle(\"output/tilting/data_.pkl\")"
   ]
  },
  {
   "cell_type": "code",
   "execution_count": null,
   "metadata": {},
   "outputs": [],
   "source": [
    "df_analyse = pd.read_pickle(\n",
    "    \"output/tilting/data_.pkl\")"
   ]
  },
  {
   "cell_type": "code",
   "execution_count": null,
   "metadata": {},
   "outputs": [],
   "source": [
    "print(df_analyse.voxel_size.unique())"
   ]
  },
  {
   "cell_type": "code",
   "execution_count": null,
   "metadata": {},
   "outputs": [],
   "source": [
    "# df = pd.DataFrame({'A': [1, 2, 3], 'B': [4, 5, 6]},\n",
    "#                   index=['a', 'b', 'c'])\n",
    "# df_analyse.to_hdf('output/tilting/data_.h5', key='df', mode='w')"
   ]
  },
  {
   "cell_type": "code",
   "execution_count": null,
   "metadata": {},
   "outputs": [],
   "source": [
    "# print(df_)"
   ]
  },
  {
   "cell_type": "code",
   "execution_count": null,
   "metadata": {},
   "outputs": [],
   "source": [
    "# df_.to_hdf('output/tilting/data_.h5', key='df', mode='w')"
   ]
  },
  {
   "cell_type": "code",
   "execution_count": null,
   "metadata": {},
   "outputs": [],
   "source": [
    "for mod in ['retardation']:\n",
    "    fig, axs = plt.subplots(1,2, sharey=True)\n",
    "    # axs.plot(np.NaN, np.NaN, '-', color='none', label='$\\Omega$')\n",
    "    for i, m in enumerate(['p', 'r']):\n",
    "        sns.boxplot(\n",
    "            x='voxel_size',\n",
    "            y=mod,\n",
    "            hue='omega',\n",
    "            fliersize=0.25,\n",
    "            data=df_analyse[(df_analyse.model == m) & \n",
    "                            (df_analyse.f0 == 0) & \n",
    "                            (df_analyse.f1 == 0) & \n",
    "                            (df_analyse.psi == 0.5) &\n",
    "                            (df_analyse.tilt == \"0\") & \n",
    "                            (df_analyse.resolution == 2.5)].explode(mod), ax=axs[i]\n",
    "        )\n",
    "#     axs.legend(title = None)\n",
    "#     axs.legend(title = \"$\\Omega$\")\n",
    "#     axs.set_xlabel('voxel_size')\n",
    "#     axs.set_ylabel('$\\Delta \\\\varphi$')\n",
    "#     legend = ax.legend()\n",
    "#     print(dir(legend))\n",
    "#     print(legend.get_label)\n",
    "#     ax.legend(title='$\\Omega$')\n",
    "#     tikzplotlib.save(f\"voxel_size_vs_{mod}.tex\")\n"
   ]
  },
  {
   "cell_type": "code",
   "execution_count": null,
   "metadata": {},
   "outputs": [],
   "source": [
    "fig, axs = plt.subplots(1,1)\n",
    "sns.boxplot(\n",
    "    x='voxel_size',\n",
    "    y=mod,\n",
    "    hue='omega',\n",
    "    fliersize=0.25,\n",
    "    data=df_analyse[(df_analyse.model == 'r') & (df_analyse.f0 == 0) & (df_analyse.f1 == 0) & (df_analyse.psi == 0.5) & (df_analyse.resolution == 1.25)].explode(mod)\n",
    ")\n",
    "fig, axs = plt.subplots(1,1)\n",
    "sns.boxplot(\n",
    "    x='voxel_size',\n",
    "    y=mod,\n",
    "    hue='omega',\n",
    "    fliersize=0.25,\n",
    "    data=df_analyse[(df_analyse.model == 'r') & (df_analyse.f0 == 0) & (df_analyse.f1 == 0) & (df_analyse.psi == 0.5) & (df_analyse.resolution == 2.5)].explode(mod)\n",
    ")"
   ]
  }
 ],
 "metadata": {
  "kernelspec": {
   "display_name": "Python 3",
   "language": "python",
   "name": "python3"
  },
  "language_info": {
   "codemirror_mode": {
    "name": "ipython",
    "version": 3
   },
   "file_extension": ".py",
   "mimetype": "text/x-python",
   "name": "python",
   "nbconvert_exporter": "python",
   "pygments_lexer": "ipython3",
   "version": "3.6.9"
  },
  "varInspector": {
   "cols": {
    "lenName": 16,
    "lenType": 16,
    "lenVar": 40
   },
   "kernels_config": {
    "python": {
     "delete_cmd_postfix": "",
     "delete_cmd_prefix": "del ",
     "library": "var_list.py",
     "varRefreshCmd": "print(var_dic_list())"
    },
    "r": {
     "delete_cmd_postfix": ") ",
     "delete_cmd_prefix": "rm(",
     "library": "var_list.r",
     "varRefreshCmd": "cat(var_dic_list()) "
    }
   },
   "types_to_exclude": [
    "module",
    "function",
    "builtin_function_or_method",
    "instance",
    "_Feature"
   ],
   "window_display": false
  }
 },
 "nbformat": 4,
 "nbformat_minor": 4
}
