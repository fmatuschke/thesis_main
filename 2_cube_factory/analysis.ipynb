{
 "cells": [
  {
   "cell_type": "code",
   "execution_count": null,
   "metadata": {},
   "outputs": [],
   "source": [
    "### %matplotlib inline\n",
    "from jupyterthemes import jtplot\n",
    "jtplot.style(theme=\"onedork\", context=\"notebook\", ticks=True, grid=False)\n",
    "\n",
    "#%% prepair data\n",
    "import numpy as np\n",
    "import h5py\n",
    "import os\n",
    "import sys\n",
    "import glob\n",
    "\n",
    "import matplotlib.pyplot as plt\n",
    "import scipy.stats\n",
    "import seaborn as sns\n",
    "import pandas as pd\n",
    "\n",
    "from tqdm import tqdm\n",
    "\n",
    "sim_path = \"output/simulation/*.h5\"\n",
    "pkl_file = \"output/analysis/data.pkl\""
   ]
  },
  {
   "cell_type": "code",
   "execution_count": null,
   "metadata": {},
   "outputs": [],
   "source": [
    "#%% prepair data\n",
    "if not os.path.isfile(pkl_file):\n",
    "    os.makedirs(\"output/analysis\", exist_ok=True)\n",
    "    file_list = sorted(glob.glob(sim_path))\n",
    "\n",
    "    # get resolution:\n",
    "    with h5py.File(file_list[0], 'r') as h5f:\n",
    "        for name in ['PM']:\n",
    "            h5f_sub = h5f[name + '/p']\n",
    "            res = h5f_sub['analysis/rofl/direction'].shape\n",
    "    shape = (len(file_list), 2, res[0] * res[1])\n",
    "\n",
    "    df = pd.DataFrame(\n",
    "        columns=[\"f0\", \"f1\", \"omega\", \"psi\", \"rofl_dir\", \"rofl_inc\", \"rofl_trel\"])\n",
    "\n",
    "    print('collect rofl data')\n",
    "\n",
    "    for f, file in enumerate(tqdm(file_list)):\n",
    "        with h5py.File(file, 'r') as h5f:\n",
    "            for name in ['PM']:\n",
    "                for m, model in enumerate(['p', 'r']):\n",
    "                    h5f_sub = h5f[name + '/' + model]\n",
    "\n",
    "                    rofl_dir = h5f_sub['analysis/rofl/direction'][\n",
    "                        ...].flatten()\n",
    "                    rofl_inc = h5f_sub['analysis/rofl/inclination'][\n",
    "                        ...].flatten()\n",
    "                    rofl_trel = h5f_sub['analysis/rofl/t_rel'][\n",
    "                        ...].flatten()\n",
    "\n",
    "                    rofl_dir[rofl_dir > np.pi / 2] -= np.pi\n",
    "\n",
    "                    psi = h5f_sub.attrs['parameter/psi']\n",
    "                    omega = h5f_sub.attrs['parameter/omega']\n",
    "                    f0 = h5f_sub.attrs['parameter/f0_inc']\n",
    "                    f1 = h5f_sub.attrs['parameter/f1_rot']\n",
    "\n",
    "                    df = df.append({\n",
    "                        \"f0\": f0,\n",
    "                        \"f1\": f1,\n",
    "                        \"omega\": omega,\n",
    "                        \"psi\": psi,\n",
    "                        \"rofl_dir\":\n",
    "                            rofl_dir,\n",
    "                        \"rofl_inc\":\n",
    "                            rofl_inc,\n",
    "                        \"rofl_trel\":\n",
    "                            rofl_trel\n",
    "                    }, ignore_index = True)\n",
    "    \n",
    "    df.to_pickle(pkl_file)"
   ]
  },
  {
   "cell_type": "code",
   "execution_count": null,
   "metadata": {},
   "outputs": [],
   "source": [
    "#%% visualize data\n",
    "df = pd.read_pickle(pkl_file)\n",
    "\n",
    "df = df.loc[df['f1'] == 0.0]\n",
    "# df = df[[\"omega\", \"rofl_dir\", \"rofl_trel\"]]\n",
    "df\n",
    "# g = sns.pairplot(df, hue=\"omega\", diag_kind=None)\n",
    "# g.axes[0, 0].set_xlim((-5, 95))\n",
    "# g.axes[1, 0].set_xlim((-5, 95))\n",
    "# g.axes[2, 0].set_xlim((-5, 95))\n",
    "# plt.show()"
   ]
  },
  {
   "cell_type": "code",
   "execution_count": null,
   "metadata": {},
   "outputs": [],
   "source": [
    "psi_list = npzfile['psi_list']\n",
    "phi_list = npzfile['phi_list']\n",
    "omega_list = npzfile['omega_list']\n",
    "\n",
    "print(np.unique(psi_list))\n",
    "\n",
    "for p in np.unique(psi_list):\n",
    "    ind = np.where(np.logical_and(psi_list == p, phi_list == 0))[0]\n",
    "\n",
    "    dp = 5\n",
    "    p = p * dp\n",
    "\n",
    "    m = 0\n",
    "    plt.subplot(311)\n",
    "    plt.errorbar(npzfile['omega_list'][ind] + m + p - 0.5 * dp,\n",
    "                 np.rad2deg(npzfile['rofl_dir_mean'][ind, m]),\n",
    "                 np.rad2deg(npzfile['rofl_dir_std'][ind, m]),\n",
    "                 linestyle='None',\n",
    "                 marker='^')\n",
    "\n",
    "    plt.subplot(312)\n",
    "    plt.errorbar(npzfile['omega_list'][ind] + m + p - 0.5 * dp,\n",
    "                 np.rad2deg(npzfile['rofl_inc_mean'][ind, m]),\n",
    "                 np.rad2deg(npzfile['rofl_inc_std'][ind, m]),\n",
    "                 linestyle='None',\n",
    "                 marker='^')\n",
    "\n",
    "    plt.subplot(313)\n",
    "    plt.errorbar(npzfile['omega_list'][ind] + m + p - 0.5 * dp,\n",
    "                 npzfile['rofl_trel_mean'][ind, m],\n",
    "                 npzfile['rofl_trel_std'][ind, m],\n",
    "                 linestyle='None',\n",
    "                 marker='^')\n",
    "plt.show()"
   ]
  }
 ],
 "metadata": {
  "kernelspec": {
   "display_name": "Python 3",
   "language": "python",
   "name": "python3"
  },
  "language_info": {
   "codemirror_mode": {
    "name": "ipython",
    "version": 3
   },
   "file_extension": ".py",
   "mimetype": "text/x-python",
   "name": "python",
   "nbconvert_exporter": "python",
   "pygments_lexer": "ipython3",
   "version": "3.6.9"
  },
  "varInspector": {
   "cols": {
    "lenName": 16,
    "lenType": 16,
    "lenVar": 40
   },
   "kernels_config": {
    "python": {
     "delete_cmd_postfix": "",
     "delete_cmd_prefix": "del ",
     "library": "var_list.py",
     "varRefreshCmd": "print(var_dic_list())"
    },
    "r": {
     "delete_cmd_postfix": ") ",
     "delete_cmd_prefix": "rm(",
     "library": "var_list.r",
     "varRefreshCmd": "cat(var_dic_list()) "
    }
   },
   "types_to_exclude": [
    "module",
    "function",
    "builtin_function_or_method",
    "instance",
    "_Feature"
   ],
   "window_display": false
  }
 },
 "nbformat": 4,
 "nbformat_minor": 4
}
