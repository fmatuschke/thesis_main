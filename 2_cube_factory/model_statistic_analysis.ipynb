{
 "cells": [
  {
   "cell_type": "code",
   "execution_count": null,
   "metadata": {},
   "outputs": [],
   "source": [
    "%matplotlib inline\n",
    "from jupyterthemes import jtplot\n",
    "jtplot.style(theme=\"onedork\", context=\"notebook\", ticks=True, grid=True)\n",
    "\n",
    "import numpy as np\n",
    "import itertools\n",
    "import h5py\n",
    "import os\n",
    "import sys\n",
    "import glob\n",
    "\n",
    "import matplotlib.pyplot as plt\n",
    "import scipy.stats\n",
    "import seaborn as sns\n",
    "import pandas as pd\n",
    "import tikzplotlib\n",
    "\n",
    "# from tqdm import tqdm\n",
    "from tqdm.notebook import tqdm_notebook as tqdm\n",
    "\n",
    "import helper.circular\n",
    "import fastpli.io\n",
    "import fastpli.tools\n",
    "import fastpli.objects\n",
    "import fastpli.analysis"
   ]
  },
  {
   "cell_type": "code",
   "execution_count": null,
   "metadata": {},
   "outputs": [],
   "source": [
    "df = pd.read_pickle(\"output/cube_stat_0/cube_stat.pkl\")"
   ]
  },
  {
   "cell_type": "code",
   "execution_count": null,
   "metadata": {},
   "outputs": [],
   "source": [
    "df_ = df\n",
    "df_ = df_[df_.state == \"solved\"]\n",
    "df_ = df_[df_.omega == 90.0]\n",
    "df_ = df_[df_.psi == 0.5]\n",
    "df_ = df_[df.fl<=6]\n",
    "df_['volume'] = df_.count_elements.map(lambda x: np.sum(x[1:])) / df_.count_elements.map(np.sum)\n",
    "df_['frac_num_col_obj'] = df_.num_col_obj / df_.num_obj\n",
    "\n",
    "palette = \"bright\"\n",
    "\n",
    "ys = [\"time\", \"overlap\", \"frac_num_col_obj\", \"volume\"]\n",
    "# ys = [\"time\", \"overlap\", \"num_col_obj\", \"num_obj\", \"num_steps\", \"volume\"]\n",
    "f, ax = plt.subplots(len(ys),1,figsize=(15,15))\n",
    "sns.despine(f, left=True, bottom=True)\n",
    "\n",
    "for i, y in enumerate(ys):\n",
    "    sns.scatterplot(x=\"fl\", y=y,\n",
    "                    hue=\"fr\",\n",
    "                    palette=palette,\n",
    "                    sizes=(1, 8), linewidth=0,\n",
    "                    data=df_, ax=ax[i])\n",
    "    if y in [\"time\", \"num_steps\"]:\n",
    "        ax[i].set(yscale=\"log\")\n"
   ]
  }
 ],
 "metadata": {
  "kernelspec": {
   "display_name": "Python 3.6.9 64-bit ('env-ime263': venv)",
   "language": "python",
   "name": "python36964bitenvime263venv0f3ebb8d47594e3a9bcdecb0e897f665"
  },
  "language_info": {
   "codemirror_mode": {
    "name": "ipython",
    "version": 3
   },
   "file_extension": ".py",
   "mimetype": "text/x-python",
   "name": "python",
   "nbconvert_exporter": "python",
   "pygments_lexer": "ipython3",
   "version": "3.6.9"
  }
 },
 "nbformat": 4,
 "nbformat_minor": 4
}
