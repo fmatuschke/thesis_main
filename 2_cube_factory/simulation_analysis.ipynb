{
 "cells": [
  {
   "cell_type": "code",
   "execution_count": null,
   "metadata": {},
   "outputs": [],
   "source": [
    "### %matplotlib inline\n",
    "from jupyterthemes import jtplot\n",
    "jtplot.style(theme=\"onedork\", context=\"notebook\", ticks=True, grid=True)\n",
    "\n",
    "import numpy as np\n",
    "import h5py\n",
    "import os\n",
    "import sys\n",
    "import glob\n",
    "\n",
    "import matplotlib.pyplot as plt\n",
    "import scipy.stats\n",
    "import seaborn as sns\n",
    "import pandas as pd\n",
    "import tikzplotlib\n",
    "\n",
    "from tqdm import tqdm\n",
    "import helper.circular\n",
    "\n",
    "sim_path = \"output/simulation/*.h5\"\n",
    "out_file = \"output/analysis/\""
   ]
  },
  {
   "cell_type": "code",
   "execution_count": null,
   "metadata": {},
   "outputs": [],
   "source": [
    "if False or not os.path.isfile(os.path.join(out_file, \"pm.pkl\")):\n",
    "    os.makedirs(\"output/analysis\", exist_ok=True)\n",
    "    file_list = sorted(glob.glob(sim_path))\n",
    "\n",
    "    # get resolution:\n",
    "    with h5py.File(file_list[0], 'r') as h5f:\n",
    "        for name in ['PM']:\n",
    "            h5f_sub = h5f[name + '/p']\n",
    "            res = h5f_sub['analysis/rofl/direction'].shape\n",
    "    shape = (len(file_list), 2, res[0] * res[1])\n",
    "\n",
    "    df = {'PM': pd.DataFrame(), 'LAP': pd.DataFrame()}\n",
    "\n",
    "    for f, file in enumerate(tqdm(file_list)):\n",
    "        with h5py.File(file, 'r') as h5f:\n",
    "            for name in ['PM', 'LAP']:\n",
    "                for m, model in enumerate(['p', 'r']):\n",
    "                    h5f_sub = h5f[name + '/' + model]\n",
    "\n",
    "                    epa_dir = h5f_sub['analysis/epa/0/direction'][...].ravel()\n",
    "                    # epa_dir = helper.circular.remap(epa_dir, 0, np.pi)\n",
    "                    epa_dir = helper.circular.center_mean(epa_dir, 0, np.pi)\n",
    "\n",
    "                    rofl_dir = h5f_sub['analysis/rofl/direction'][...].ravel()\n",
    "                    rofl_dir[rofl_dir > np.pi / 2] -= np.pi\n",
    "\n",
    "                    df[name] = df[name].append(\n",
    "                        {\n",
    "                            \"f0\":\n",
    "                            h5f_sub.attrs['parameter/f0_inc'],\n",
    "                            \"f1\":\n",
    "                            h5f_sub.attrs['parameter/f1_rot'],\n",
    "                            \"omega\":\n",
    "                            h5f_sub.attrs['parameter/omega'],\n",
    "                            \"psi\":\n",
    "                            h5f_sub.attrs['parameter/psi'],\n",
    "                            \"rofl_dir\":\n",
    "                            np.rad2deg(rofl_dir),\n",
    "                            \"rofl_inc\":\n",
    "                            h5f_sub['analysis/rofl/inclination'][...].ravel(),\n",
    "                            \"rofl_trel\":\n",
    "                            h5f_sub['analysis/rofl/t_rel'][...].ravel(),\n",
    "                            \"epa_trans\":\n",
    "                            h5f_sub['analysis/epa/0/transmittance'][\n",
    "                                ...].ravel(),\n",
    "                            \"epa_dir\":\n",
    "                            np.rad2deg(epa_dir),\n",
    "                            \"epa_ret\":\n",
    "                            h5f_sub['analysis/epa/0/retardation'][...].ravel(),\n",
    "                        },\n",
    "                        ignore_index=True)\n",
    "\n",
    "    df['PM'].to_pickle(os.path.join(out_file, \"pm.pkl\"))\n",
    "    df['LAP'].to_pickle(os.path.join(out_file, \"lap.pkl\"))\n",
    "\n",
    "df_pm = pd.read_pickle(os.path.join(out_file, \"pm.pkl\"))\n",
    "df_lap = pd.read_pickle(os.path.join(out_file, \"lap.pkl\"))"
   ]
  },
  {
   "cell_type": "code",
   "execution_count": null,
   "metadata": {},
   "outputs": [],
   "source": [
    "data=df_pm[(df_pm.f0 == 0.0) & (df_pm.f1 == 0.0)].explode(\"epa_dir\")\n",
    "grid = sns.FacetGrid(data, col=\"omega\", hue=\"omega\", palette=sns.color_palette(\"dark\", 10),\n",
    "                     col_wrap=5, height=2.5)\n",
    "grid.map(plt.scatter, \"psi\", \"epa_dir\", marker=\"o\")\n",
    "grid.fig.tight_layout(w_pad=1)"
   ]
  },
  {
   "cell_type": "code",
   "execution_count": null,
   "metadata": {},
   "outputs": [],
   "source": [
    "data=df_pm[(df_pm.f0 == 0.0) & (df_pm.f1 == 0.0)].explode(\"epa_dir\")\n",
    "\n",
    "fig, axes = plt.subplots(2, 5)\n",
    "for i, omega in enumerate(data.omega.unique()):\n",
    "    sns.boxplot(x=\"psi\",\n",
    "                y=\"epa_dir\",\n",
    "                data=data[data.omega == omega],\n",
    "                orient='v',\n",
    "                color = sns.color_palette(\"dark\", 10)[i],\n",
    "                ax=axes[i // 5, i % 5])\n",
    "    \n",
    "data=df_pm[(df_pm.f0 == 0.0) & (df_pm.f1 == 0.0)].explode(\"epa_ret\")\n",
    "fig, axes = plt.subplots(2, 5)\n",
    "for i, omega in enumerate(data.omega.unique()):\n",
    "    sns.boxplot(x=\"psi\",\n",
    "                y=\"epa_ret\",\n",
    "                data=data[data.omega == omega],\n",
    "                orient='v',\n",
    "                color = sns.color_palette(\"dark\", 10)[i],\n",
    "                ax=axes[i // 5, i % 5])"
   ]
  },
  {
   "cell_type": "code",
   "execution_count": null,
   "metadata": {},
   "outputs": [],
   "source": [
    "sns.stripplot(x=\"psi\",\n",
    "                y=\"epa_dir\",\n",
    "                data=data[data.omega == omega],\n",
    "                orient='v', jitter=0.5)"
   ]
  }
 ],
 "metadata": {
  "kernelspec": {
   "display_name": "Python 3",
   "language": "python",
   "name": "python3"
  },
  "language_info": {
   "codemirror_mode": {
    "name": "ipython",
    "version": 3
   },
   "file_extension": ".py",
   "mimetype": "text/x-python",
   "name": "python",
   "nbconvert_exporter": "python",
   "pygments_lexer": "ipython3",
   "version": "3.6.9"
  },
  "varInspector": {
   "cols": {
    "lenName": 16,
    "lenType": 16,
    "lenVar": 40
   },
   "kernels_config": {
    "python": {
     "delete_cmd_postfix": "",
     "delete_cmd_prefix": "del ",
     "library": "var_list.py",
     "varRefreshCmd": "print(var_dic_list())"
    },
    "r": {
     "delete_cmd_postfix": ") ",
     "delete_cmd_prefix": "rm(",
     "library": "var_list.r",
     "varRefreshCmd": "cat(var_dic_list()) "
    }
   },
   "position": {
    "height": "616.85px",
    "left": "590px",
    "right": "20px",
    "top": "120px",
    "width": "350px"
   },
   "types_to_exclude": [
    "module",
    "function",
    "builtin_function_or_method",
    "instance",
    "_Feature"
   ],
   "window_display": false
  }
 },
 "nbformat": 4,
 "nbformat_minor": 4
}
