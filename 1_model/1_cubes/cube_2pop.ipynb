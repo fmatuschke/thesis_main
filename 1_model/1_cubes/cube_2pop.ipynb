{
 "cells": [
  {
   "cell_type": "code",
   "execution_count": null,
   "metadata": {},
   "outputs": [],
   "source": [
    "%matplotlib inline\n",
    "from jupyterthemes import jtplot\n",
    "jtplot.style(theme=\"onedork\", context=\"notebook\", ticks=True, grid=True)\n",
    "\n",
    "import numpy as np\n",
    "import itertools\n",
    "import h5py\n",
    "import os\n",
    "import sys\n",
    "import glob\n",
    "\n",
    "import matplotlib.pyplot as plt\n",
    "import scipy.stats\n",
    "import seaborn as sns\n",
    "import pandas as pd\n",
    "import tikzplotlib\n",
    "\n",
    "# from tqdm import tqdm\n",
    "from tqdm.notebook import tqdm_notebook as tqdm\n",
    "\n",
    "import helper.circular\n",
    "import fastpli.io\n",
    "import fastpli.tools\n",
    "import fastpli.objects\n",
    "import fastpli.analysis\n",
    "\n",
    "model_path_A = \"output/models/0\"\n",
    "model_path_B = \"output/models/1_rnd_seed/\""
   ]
  },
  {
   "cell_type": "code",
   "execution_count": null,
   "metadata": {},
   "outputs": [],
   "source": [
    "hist_bin = lambda n: np.linspace(0, np.pi, n + 1, endpoint=True)\n",
    "# theta_bin = lambda n: np.linspace(-np.pi / 2, np.pi / 2, n + 1, endpoint=True)\n",
    "\n",
    "fig, axs = plt.subplots(11,\n",
    "                        10,\n",
    "                        subplot_kw={'projection': 'polar'},\n",
    "                        figsize=(20, 20))\n",
    "axs = np.atleast_2d(axs)\n",
    "for i in range(axs.shape[0]):\n",
    "    for j in range(axs.shape[1]):\n",
    "        axs[i, j].set_xticklabels([])\n",
    "        axs[i, j].set_yticklabels([])\n",
    "\n",
    "for i, psi in enumerate(tqdm(np.linspace(0, 1, 11))):\n",
    "    for j, omega in enumerate(np.linspace(0, 90, 10)):\n",
    "        for m, model in enumerate([model_path_A, model_path_B]):\n",
    "            for state, color in [(\"init\", [\"tab:blue\", \"tab:orange\"]),\n",
    "                                 (\"solved\", [\"tab:green\", \"tab:red\"])]:\n",
    "                if model is model_path_A:\n",
    "                    file = os.path.join(\n",
    "                        model_path_A,\n",
    "                        f\"cube_2pop_psi_{psi:.1f}_omega_{omega:.1f}_.{state}.pkl\"\n",
    "                    )\n",
    "                else:\n",
    "                    file = os.path.join(\n",
    "                        model_path_B,\n",
    "                        f\"cube_2pop_psi_{psi:.2f}_omega_{omega:.2f}_r_1.00_v0_210_.{state}.pkl\"\n",
    "                    )\n",
    "                if not os.path.isfile(file):\n",
    "#                     print(file)\n",
    "                    continue\n",
    "                df = pd.read_pickle(file)\n",
    "                sub = (df.f0_inc == 0.0) & (df.f1_rot == 0.0) & (df.v == 60)\n",
    "                if len(df[sub]) != 1:\n",
    "                    print(\"FOO\")\n",
    "\n",
    "                phi = df[sub].explode(\"phi\").phi.to_numpy(float)\n",
    "                theta = df[sub].explode(\"theta\").theta.to_numpy(float)\n",
    "\n",
    "                theta[phi > np.pi] = np.pi - theta[phi > np.pi]\n",
    "                phi = helper.circular.remap(phi, np.pi, 0)\n",
    "\n",
    "                h, x = np.histogram(phi, hist_bin(180), density=True)\n",
    "                x = x[:-1] + (x[1] - x[0]) / 2\n",
    "                x = np.append(np.concatenate((x, x + np.pi), axis=0), x[0])\n",
    "                h = np.append(np.concatenate((h, h), axis=0), h[0])\n",
    "                h = h / np.max(h)\n",
    "                h = h[(x > np.pi * 3 / 2) | (x < np.pi / 2)]\n",
    "                x = x[(x > np.pi * 3 / 2) | (x < np.pi / 2)]\n",
    "                if m == 0:\n",
    "                    axs[i, j].plot(x, h, color[m])\n",
    "                else:\n",
    "                    axs[i, j].plot(x, h, color[m], \"--\")\n",
    "\n",
    "                h, x = np.histogram(theta, hist_bin(180), density=True)\n",
    "                x = np.pi - (np.pi / 2 - x[:-1] +\n",
    "                             (x[1] - x[0]) / 2)  # np/2 for incl, - for plot\n",
    "                h = h / np.max(h)\n",
    "                h = h[x > np.pi / 2]\n",
    "                x = x[x > np.pi / 2]\n",
    "                if m == 0:\n",
    "                    axs[i, j].plot(x, h, color[m])\n",
    "                else:\n",
    "                    axs[i, j].plot(x, h, color[m], \"--\")\n",
    "\n",
    "        axs[i, j].set_title(f\"psi:{psi:.0f}, o:{omega:.1f}\")"
   ]
  },
  {
   "cell_type": "code",
   "execution_count": null,
   "metadata": {},
   "outputs": [],
   "source": [
    "df = pd.read_pickle(\"output/cube_2pop_120/cube_2pop.pkl\")\n"
   ]
  },
  {
   "cell_type": "code",
   "execution_count": null,
   "metadata": {},
   "outputs": [],
   "source": [
    "df[df.radius == 0.5].state.value_counts()\n",
    "df_ = df[df.state == \"not_solved\"]\n",
    "print(df_.num_col_obj/df_.num_obj)"
   ]
  },
  {
   "cell_type": "code",
   "execution_count": null,
   "metadata": {},
   "outputs": [],
   "source": [
    "df_ = df[(df.radius == 1.0) & (df.state != \"init\")]\n",
    "df_.time_min = df_.time / 60\n",
    "df_.time_h = df_.time_min / 60\n",
    "df_.time_h.hist(bins=42)"
   ]
  }
 ],
 "metadata": {
  "language_info": {
   "name": "python",
   "version": "3.6.9-final"
  },
  "kernelspec": {
   "name": "python3",
   "display_name": "Python 3.6.9 64-bit ('env-ime263')",
   "metadata": {
    "interpreter": {
     "hash": "6bb0a0b3b07fa36eefab7c8e9397c246a3731b1096f5c29cb8fee937965f8ebb"
    }
   }
  }
 },
 "nbformat": 4,
 "nbformat_minor": 4
}